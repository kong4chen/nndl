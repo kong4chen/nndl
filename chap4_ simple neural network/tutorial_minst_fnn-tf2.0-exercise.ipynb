{
 "cells": [
  {
   "cell_type": "markdown",
   "metadata": {},
   "source": [
    "## 准备数据"
   ]
  },
  {
   "cell_type": "code",
   "execution_count": 6,
   "metadata": {},
   "outputs": [],
   "source": [
    "import os\n",
    "import numpy as np\n",
    "import tensorflow as tf\n",
    "from tensorflow import keras\n",
    "from tensorflow.keras import layers, optimizers, datasets\n",
    "\n",
    "os.environ['TF_CPP_MIN_LOG_LEVEL'] = '2'  # or any {'0', '1', '2'}\n",
    "\n",
    "def mnist_dataset():\n",
    "    (x, y), (x_test, y_test) = datasets.mnist.load_data()\n",
    "    #normalize\n",
    "    x = x/255.0\n",
    "    x_test = x_test/255.0\n",
    "    \n",
    "    return (x, y), (x_test, y_test)"
   ]
  },
  {
   "cell_type": "code",
   "execution_count": 7,
   "metadata": {},
   "outputs": [
    {
     "name": "stdout",
     "output_type": "stream",
     "text": [
      "[(1, 'a'), (2, 'b'), (3, 'c'), (4, 'd')]\n"
     ]
    }
   ],
   "source": [
    "print(list(zip([1, 2, 3, 4], ['a', 'b', 'c', 'd'])))"
   ]
  },
  {
   "cell_type": "markdown",
   "metadata": {},
   "source": [
    "## 建立模型"
   ]
  },
  {
   "cell_type": "code",
   "execution_count": 8,
   "metadata": {},
   "outputs": [],
   "source": [
    "class myModel:\n",
    "    def __init__(self):\n",
    "        ####################\n",
    "        '''声明模型对应的参数'''\n",
    "        ####################\n",
    "        self.W1 = tf.Variable(tf.random.normal([28 * 28, 256]), dtype=tf.float32)\n",
    "        self.b1 = tf.Variable(tf.zeros([256]), dtype=tf.float32)\n",
    "        self.W2 = tf.Variable(tf.random.normal([256, 10]), dtype=tf.float32)\n",
    "        self.b2 = tf.Variable(tf.zeros([10]), dtype=tf.float32)\n",
    "\n",
    "    def __call__(self, x):\n",
    "        ####################\n",
    "        '''实现模型函数体，返回未归一化的logits'''\n",
    "        ####################\n",
    "        x = tf.reshape(x, [-1, 28 * 28])  # 展平输入图像\n",
    "        h1 = tf.nn.relu(tf.matmul(x, self.W1) + self.b1)  # 第一层 ReLU 激活\n",
    "        logits = tf.matmul(h1, self.W2) + self.b2  # 输出层 (未归一化的logits)\n",
    "\n",
    "        return logits\n",
    "        \n",
    "model = myModel()\n",
    "\n",
    "optimizer = optimizers.Adam()"
   ]
  },
  {
   "cell_type": "markdown",
   "metadata": {},
   "source": [
    "## 计算 loss"
   ]
  },
  {
   "cell_type": "code",
   "execution_count": 9,
   "metadata": {},
   "outputs": [],
   "source": [
    "@tf.function\n",
    "def compute_loss(logits, labels):\n",
    "    return tf.reduce_mean(\n",
    "        tf.nn.sparse_softmax_cross_entropy_with_logits(\n",
    "            logits=logits, labels=labels))\n",
    "\n",
    "@tf.function\n",
    "def compute_accuracy(logits, labels):\n",
    "    predictions = tf.argmax(logits, axis=1)\n",
    "    return tf.reduce_mean(tf.cast(tf.equal(predictions, labels), tf.float32))\n",
    "\n",
    "@tf.function\n",
    "def train_one_step(model, optimizer, x, y):\n",
    "    with tf.GradientTape() as tape:\n",
    "        logits = model(x)\n",
    "        loss = compute_loss(logits, y)\n",
    "\n",
    "    # compute gradient\n",
    "    trainable_vars = [model.W1, model.W2, model.b1, model.b2]\n",
    "    grads = tape.gradient(loss, trainable_vars)\n",
    "    for g, v in zip(grads, trainable_vars):\n",
    "        v.assign_sub(0.01*g)\n",
    "\n",
    "    accuracy = compute_accuracy(logits, y)\n",
    "\n",
    "    # loss and accuracy is scalar tensor\n",
    "    return loss, accuracy\n",
    "\n",
    "@tf.function\n",
    "def test(model, x, y):\n",
    "    logits = model(x)\n",
    "    loss = compute_loss(logits, y)\n",
    "    accuracy = compute_accuracy(logits, y)\n",
    "    return loss, accuracy"
   ]
  },
  {
   "cell_type": "markdown",
   "metadata": {},
   "source": [
    "## 实际训练"
   ]
  },
  {
   "cell_type": "code",
   "execution_count": 10,
   "metadata": {},
   "outputs": [
    {
     "name": "stdout",
     "output_type": "stream",
     "text": [
      "epoch 0 : loss 147.01784 ; accuracy 0.1294\n",
      "epoch 1 : loss 129.44061 ; accuracy 0.13258334\n",
      "epoch 2 : loss 117.5348 ; accuracy 0.13425\n",
      "epoch 3 : loss 108.79885 ; accuracy 0.1357\n",
      "epoch 4 : loss 102.06229 ; accuracy 0.13611667\n",
      "epoch 5 : loss 96.7385 ; accuracy 0.1375\n",
      "epoch 6 : loss 92.39063 ; accuracy 0.13928333\n",
      "epoch 7 : loss 88.7524 ; accuracy 0.14093333\n",
      "epoch 8 : loss 85.64228 ; accuracy 0.1429\n",
      "epoch 9 : loss 82.90957 ; accuracy 0.14681667\n",
      "epoch 10 : loss 80.444084 ; accuracy 0.15145\n",
      "epoch 11 : loss 78.17881 ; accuracy 0.15681666\n",
      "epoch 12 : loss 76.062775 ; accuracy 0.16216667\n",
      "epoch 13 : loss 74.06458 ; accuracy 0.16801667\n",
      "epoch 14 : loss 72.167595 ; accuracy 0.17331667\n",
      "epoch 15 : loss 70.3595 ; accuracy 0.18028334\n",
      "epoch 16 : loss 68.63015 ; accuracy 0.18663333\n",
      "epoch 17 : loss 66.97259 ; accuracy 0.19295\n",
      "epoch 18 : loss 65.38364 ; accuracy 0.20041667\n",
      "epoch 19 : loss 63.859367 ; accuracy 0.20736666\n",
      "epoch 20 : loss 62.395775 ; accuracy 0.2149\n",
      "epoch 21 : loss 60.991165 ; accuracy 0.22243333\n",
      "epoch 22 : loss 59.643883 ; accuracy 0.23026666\n",
      "epoch 23 : loss 58.35062 ; accuracy 0.23806667\n",
      "epoch 24 : loss 57.10753 ; accuracy 0.24478333\n",
      "epoch 25 : loss 55.909843 ; accuracy 0.25165\n",
      "epoch 26 : loss 54.755394 ; accuracy 0.25863335\n",
      "epoch 27 : loss 53.642555 ; accuracy 0.26526666\n",
      "epoch 28 : loss 52.56901 ; accuracy 0.2718\n",
      "epoch 29 : loss 51.5333 ; accuracy 0.2784\n",
      "epoch 30 : loss 50.53472 ; accuracy 0.2851\n",
      "epoch 31 : loss 49.57165 ; accuracy 0.29193333\n",
      "epoch 32 : loss 48.642136 ; accuracy 0.2978\n",
      "epoch 33 : loss 47.744984 ; accuracy 0.30461666\n",
      "epoch 34 : loss 46.87992 ; accuracy 0.31156668\n",
      "epoch 35 : loss 46.045998 ; accuracy 0.31731668\n",
      "epoch 36 : loss 45.241585 ; accuracy 0.32385\n",
      "epoch 37 : loss 44.464893 ; accuracy 0.32988334\n",
      "epoch 38 : loss 43.714085 ; accuracy 0.33535\n",
      "epoch 39 : loss 42.987675 ; accuracy 0.34086666\n",
      "epoch 40 : loss 42.284836 ; accuracy 0.34695\n",
      "epoch 41 : loss 41.60495 ; accuracy 0.35235\n",
      "epoch 42 : loss 40.947018 ; accuracy 0.35748333\n",
      "epoch 43 : loss 40.310028 ; accuracy 0.36313334\n",
      "epoch 44 : loss 39.693104 ; accuracy 0.36848333\n",
      "epoch 45 : loss 39.09525 ; accuracy 0.37378332\n",
      "epoch 46 : loss 38.515583 ; accuracy 0.37861666\n",
      "epoch 47 : loss 37.953564 ; accuracy 0.38331667\n",
      "epoch 48 : loss 37.408752 ; accuracy 0.38905\n",
      "epoch 49 : loss 36.88082 ; accuracy 0.39395\n",
      "test loss 34.97005 ; accuracy 0.4166\n"
     ]
    }
   ],
   "source": [
    "train_data, test_data = mnist_dataset()\n",
    "for epoch in range(50):\n",
    "    loss, accuracy = train_one_step(model, optimizer, \n",
    "                                    tf.constant(train_data[0], dtype=tf.float32), \n",
    "                                    tf.constant(train_data[1], dtype=tf.int64))\n",
    "    print('epoch', epoch, ': loss', loss.numpy(), '; accuracy', accuracy.numpy())\n",
    "loss, accuracy = test(model, \n",
    "                      tf.constant(test_data[0], dtype=tf.float32), \n",
    "                      tf.constant(test_data[1], dtype=tf.int64))\n",
    "\n",
    "print('test loss', loss.numpy(), '; accuracy', accuracy.numpy())"
   ]
  }
 ],
 "metadata": {
  "kernelspec": {
   "display_name": "Python 3",
   "language": "python",
   "name": "python3"
  },
  "language_info": {
   "codemirror_mode": {
    "name": "ipython",
    "version": 3
   },
   "file_extension": ".py",
   "mimetype": "text/x-python",
   "name": "python",
   "nbconvert_exporter": "python",
   "pygments_lexer": "ipython3",
   "version": "3.11.9"
  }
 },
 "nbformat": 4,
 "nbformat_minor": 2
}
